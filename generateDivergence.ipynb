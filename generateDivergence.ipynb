{
 "cells": [
  {
   "cell_type": "code",
   "execution_count": 1,
   "metadata": {},
   "outputs": [],
   "source": [
    "import os\n",
    "import numpy as np\n",
    "import pandas as pd\n",
    "import time\n",
    "from datetime import datetime\n",
    "\n",
    "import argparse\n",
    "from argparse import RawTextHelpFormatter\n",
    "\n",
    "from tqdm import tqdm\n",
    "\n",
    "# bag of words imports\n",
    "from skl_groups.features import Features\n",
    "from skl_groups.summaries import BagMean\n",
    "from skl_groups.summaries import BagOfWords\n",
    "from sklearn.pipeline import Pipeline\n",
    "from skl_groups.divergences import KNNDivergenceEstimator\n",
    "from skl_groups.kernels import PairwisePicker, Symmetrize, RBFize, ProjectPSD, FlipPSD, ShiftPSD, SquarePSD\n",
    "from skl_groups import kernels\n",
    "\n",
    "\n",
    "import h5py"
   ]
  },
  {
   "cell_type": "code",
   "execution_count": 13,
   "metadata": {},
   "outputs": [],
   "source": [
    "def calculate_div_matrix(feature_data_path,key_pattern,divFcn,temp_dir,k,hdf5_output_path):\n",
    "\n",
    "    import logging\n",
    "    \n",
    "    logging.basicConfig(filename=hdf5_output_path + '.log',\n",
    "                        format='%(asctime)s - %(levelname)s - %(message)s',\n",
    "                        datefmt='%m/%d/%Y %I:%M:%S %p')\n",
    "    \n",
    "    logger = logging.getLogger('skl_groups')\n",
    "    logger.setLevel('INFO')\n",
    "    logger.addHandler(logging.StreamHandler())\n",
    "    \n",
    "    features_df = pd.HDFStore(feature_data_path,mode='r') #h5py.File(feature_data_path, 'r')\n",
    "    feature_keys = list(features_df.keys())\n",
    "    #print(feature_keys)\n",
    "    if key_pattern is not None:\n",
    "        feature_keys = [key for key in feature_keys if key_pattern in key]\n",
    "   \n",
    "    \n",
    "    bags = [features_df.get(key).to_numpy() for key in feature_keys]\n",
    "\n",
    "    feats = Features(bags)\n",
    "\n",
    "    import tempfile\n",
    "    \n",
    "    tmpdir = tempfile.mkdtemp(dir=temp_dir)\n",
    "    logger.info('Temporary directory: {}'.format(tmpdir))\n",
    "    \n",
    "    knnDiv = KNNDivergenceEstimator(div_funcs=[divFcn],\n",
    "                                memory=tmpdir,\n",
    "                                Ks=[k],  \n",
    "                                n_jobs=-1)\n",
    "    print(knnDiv)\n",
    "    from skl_groups.utils import show_progress\n",
    "    show_progress('skl_groups.divergences.knn.progress')\n",
    "\n",
    "    div_mat = knnDiv.fit_transform(feats)\n",
    "    \n",
    "    import shutil\n",
    "    shutil.rmtree(tmpdir)\n",
    "    features_df.close()\n",
    "    \n",
    "    # Reduce matrix dimension to only pairwise similarity one\n",
    "    div_mat = div_mat[0][0]\n",
    "    csv_header = []\n",
    "\n",
    "    for feature_key in feature_keys:\n",
    "        feature_key = feature_key.replace(\"/sid_\",\"\")\n",
    "        feature_key = feature_key.replace(\"/phase1/Haralick_Features\",\"\")\n",
    "        csv_header.append(feature_key)\n",
    "\n",
    "    div_df = pd.DataFrame(div_mat,index=csv_header,columns=csv_header)\n",
    "    div_df.to_csv('/pylon5/ac5616p/debdas/SCCORProcessing/tmp/COPDSCCORkl_div_3nn_mat_haralick.csv')  \n",
    "    #logger.info('Saving a divergence matrix output: {}'.format(hdf5_output_path))\n",
    "    \n",
    "    #div_df.to_hdf(hdf5_output_path, key=divFcn + '_' + feature_data_path.replace('.h5',''))\n",
    "    \n",
    "    return True"
   ]
  },
  {
   "cell_type": "code",
   "execution_count": 14,
   "metadata": {},
   "outputs": [
    {
     "name": "stderr",
     "output_type": "stream",
     "text": [
      "Temporary directory: /pylon5/ac5616p/debdas/SCCORProcessing/tmp/tmp7tlgs36f\n",
      "Temporary directory: /pylon5/ac5616p/debdas/SCCORProcessing/tmp/tmp7tlgs36f\n",
      "Temporary directory: /pylon5/ac5616p/debdas/SCCORProcessing/tmp/tmp7tlgs36f\n",
      "Temporary directory: /pylon5/ac5616p/debdas/SCCORProcessing/tmp/tmp7tlgs36f\n",
      "Temporary directory: /pylon5/ac5616p/debdas/SCCORProcessing/tmp/tmp7tlgs36f\n",
      "Temporary directory: /pylon5/ac5616p/debdas/SCCORProcessing/tmp/tmp7tlgs36f\n",
      "Building indices...\n",
      "Building indices...\n",
      "Building indices...\n",
      "Building indices...\n",
      "Building indices...\n",
      "Building indices...\n",
      "index building:\n",
      "index building: |                                              | ETA:  --:--:--\n",
      "index building: |                                              | ETA:  --:--:--\n",
      "index building: |                                              | ETA:  --:--:--\n",
      "index building: |                                              | ETA:  --:--:--\n",
      "index building: |                                              | ETA:  --:--:--\n",
      " 39 of 70 ( 55%) |#########################                     | ETA:  0:00:00\r"
     ]
    },
    {
     "name": "stdout",
     "output_type": "stream",
     "text": [
      "KNNDivergenceEstimator(Ks=[3], clamp=True, div_funcs=['kl'], do_sym=False,\n",
      "            flann_algorithm='auto', flann_args=None,\n",
      "            memory='/pylon5/ac5616p/debdas/SCCORProcessing/tmp/tmp7tlgs36f',\n",
      "            min_dist=0.001, n_jobs=-1, version='best')\n"
     ]
    },
    {
     "name": "stderr",
     "output_type": "stream",
     "text": [
      " 70 of 70 (100%) |##############################################| Time: 0:00:00\n",
      "\n",
      " 70 of 70 (100%) |##############################################| Time: 0:00:00\n",
      "\n",
      " 70 of 70 (100%) |##############################################| Time: 0:00:00\n",
      "\n",
      " 70 of 70 (100%) |##############################################| Time: 0:00:00\n",
      "\n",
      " 70 of 70 (100%) |##############################################| Time: 0:00:00\n",
      "\n",
      " 70 of 70 (100%) |##############################################| Time: 0:00:00\n",
      "\n",
      "Getting within-bag distances...\n",
      "Getting within-bag distances...\n",
      "Getting within-bag distances...\n",
      "Getting within-bag distances...\n",
      "Getting within-bag distances...\n",
      "Getting within-bag distances...\n",
      "within-bag distances:\n",
      "within-bag distances:                                          | ETA:  --:--:--\n",
      "within-bag distances:                                          | ETA:  --:--:--\n",
      "within-bag distances:                                          | ETA:  --:--:--\n",
      "within-bag distances:                                          | ETA:  --:--:--\n",
      "within-bag distances:                                          | ETA:  --:--:--\n",
      " 70 of 70 (100%) |##############################################| Time: 0:00:00\n",
      "\n",
      " 70 of 70 (100%) |##############################################| Time: 0:00:00\n",
      "\n",
      " 70 of 70 (100%) |##############################################| Time: 0:00:00\n",
      "\n",
      " 70 of 70 (100%) |##############################################| Time: 0:00:00\n",
      "\n",
      " 70 of 70 (100%) |##############################################| Time: 0:00:00\n",
      "\n",
      " 70 of 70 (100%) |##############################################| Time: 0:00:00\n",
      "\n",
      "Getting divergences...\n",
      "Getting divergences...\n",
      "Getting divergences...\n",
      "Getting divergences...\n",
      "Getting divergences...\n",
      "Getting divergences...\n"
     ]
    },
    {
     "ename": "ValueError",
     "evalue": "ndarray is not C-contiguous",
     "output_type": "error",
     "traceback": [
      "\u001b[0;31m---------------------------------------------------------------------------\u001b[0m",
      "\u001b[0;31mValueError\u001b[0m                                Traceback (most recent call last)",
      "\u001b[0;32m<ipython-input-14-77242325f09a>\u001b[0m in \u001b[0;36m<module>\u001b[0;34m\u001b[0m\n\u001b[0;32m----> 1\u001b[0;31m \u001b[0mcalculate_div_matrix\u001b[0m\u001b[0;34m(\u001b[0m\u001b[0;34m'/pylon5/ac5616p/debdas/SCCORProcessing/COPD_SCCOR_features_db.h5'\u001b[0m\u001b[0;34m,\u001b[0m \u001b[0;34m'Haralick_Features'\u001b[0m\u001b[0;34m,\u001b[0m \u001b[0;34m'kl'\u001b[0m\u001b[0;34m,\u001b[0m \u001b[0;34m'/pylon5/ac5616p/debdas/SCCORProcessing/tmp'\u001b[0m\u001b[0;34m,\u001b[0m \u001b[0;36m3\u001b[0m\u001b[0;34m,\u001b[0m \u001b[0;34m'/pylon5/ac5616p/debdas/SCCORProcessing/tmp/COPD_SCCORkl_div_3nn_mat.h5'\u001b[0m\u001b[0;34m)\u001b[0m\u001b[0;34m\u001b[0m\u001b[0m\n\u001b[0m",
      "\u001b[0;32m<ipython-input-13-af02c5f8aa79>\u001b[0m in \u001b[0;36mcalculate_div_matrix\u001b[0;34m(feature_data_path, key_pattern, divFcn, temp_dir, k, hdf5_output_path)\u001b[0m\n\u001b[1;32m     35\u001b[0m     \u001b[0mshow_progress\u001b[0m\u001b[0;34m(\u001b[0m\u001b[0;34m'skl_groups.divergences.knn.progress'\u001b[0m\u001b[0;34m)\u001b[0m\u001b[0;34m\u001b[0m\u001b[0m\n\u001b[1;32m     36\u001b[0m \u001b[0;34m\u001b[0m\u001b[0m\n\u001b[0;32m---> 37\u001b[0;31m     \u001b[0mdiv_mat\u001b[0m \u001b[0;34m=\u001b[0m \u001b[0mknnDiv\u001b[0m\u001b[0;34m.\u001b[0m\u001b[0mfit_transform\u001b[0m\u001b[0;34m(\u001b[0m\u001b[0mfeats\u001b[0m\u001b[0;34m)\u001b[0m\u001b[0;34m\u001b[0m\u001b[0m\n\u001b[0m\u001b[1;32m     38\u001b[0m \u001b[0;34m\u001b[0m\u001b[0m\n\u001b[1;32m     39\u001b[0m     \u001b[0;32mimport\u001b[0m \u001b[0mshutil\u001b[0m\u001b[0;34m\u001b[0m\u001b[0m\n",
      "\u001b[0;32m/pghbio/dbmi/batmanlab/chirayu/py35/lib/python3.5/site-packages/sklearn/base.py\u001b[0m in \u001b[0;36mfit_transform\u001b[0;34m(self, X, y, **fit_params)\u001b[0m\n\u001b[1;32m    460\u001b[0m         \u001b[0;32mif\u001b[0m \u001b[0my\u001b[0m \u001b[0;32mis\u001b[0m \u001b[0;32mNone\u001b[0m\u001b[0;34m:\u001b[0m\u001b[0;34m\u001b[0m\u001b[0m\n\u001b[1;32m    461\u001b[0m             \u001b[0;31m# fit method of arity 1 (unsupervised transformation)\u001b[0m\u001b[0;34m\u001b[0m\u001b[0;34m\u001b[0m\u001b[0m\n\u001b[0;32m--> 462\u001b[0;31m             \u001b[0;32mreturn\u001b[0m \u001b[0mself\u001b[0m\u001b[0;34m.\u001b[0m\u001b[0mfit\u001b[0m\u001b[0;34m(\u001b[0m\u001b[0mX\u001b[0m\u001b[0;34m,\u001b[0m \u001b[0;34m**\u001b[0m\u001b[0mfit_params\u001b[0m\u001b[0;34m)\u001b[0m\u001b[0;34m.\u001b[0m\u001b[0mtransform\u001b[0m\u001b[0;34m(\u001b[0m\u001b[0mX\u001b[0m\u001b[0;34m)\u001b[0m\u001b[0;34m\u001b[0m\u001b[0m\n\u001b[0m\u001b[1;32m    463\u001b[0m         \u001b[0;32melse\u001b[0m\u001b[0;34m:\u001b[0m\u001b[0;34m\u001b[0m\u001b[0m\n\u001b[1;32m    464\u001b[0m             \u001b[0;31m# fit method of arity 2 (supervised transformation)\u001b[0m\u001b[0;34m\u001b[0m\u001b[0;34m\u001b[0m\u001b[0m\n",
      "\u001b[0;32m/pghbio/dbmi/batmanlab/chirayu/py35/lib/python3.5/site-packages/skl_groups/divergences/knn.py\u001b[0m in \u001b[0;36mtransform\u001b[0;34m(self, X)\u001b[0m\n\u001b[1;32m    355\u001b[0m             \u001b[0mself\u001b[0m\u001b[0;34m.\u001b[0m\u001b[0mdiv_funcs\u001b[0m\u001b[0;34m,\u001b[0m \u001b[0mKs\u001b[0m\u001b[0;34m,\u001b[0m\u001b[0;34m\u001b[0m\u001b[0m\n\u001b[1;32m    356\u001b[0m             \u001b[0mself\u001b[0m\u001b[0;34m.\u001b[0m\u001b[0mdo_sym\u001b[0m\u001b[0;34m,\u001b[0m \u001b[0mself\u001b[0m\u001b[0;34m.\u001b[0m\u001b[0mclamp\u001b[0m\u001b[0;34m,\u001b[0m \u001b[0mself\u001b[0m\u001b[0;34m.\u001b[0m\u001b[0mversion\u001b[0m\u001b[0;34m,\u001b[0m \u001b[0mself\u001b[0m\u001b[0;34m.\u001b[0m\u001b[0mmin_dist\u001b[0m\u001b[0;34m,\u001b[0m\u001b[0;34m\u001b[0m\u001b[0m\n\u001b[0;32m--> 357\u001b[0;31m             self._flann_args(), self._n_jobs)\n\u001b[0m\u001b[1;32m    358\u001b[0m         \u001b[0;32mreturn\u001b[0m \u001b[0moutput\u001b[0m\u001b[0;34m\u001b[0m\u001b[0m\n\u001b[1;32m    359\u001b[0m \u001b[0;34m\u001b[0m\u001b[0m\n",
      "\u001b[0;32m/pghbio/dbmi/batmanlab/chirayu/py35/lib/python3.5/site-packages/sklearn/externals/joblib/memory.py\u001b[0m in \u001b[0;36m__call__\u001b[0;34m(self, *args, **kwargs)\u001b[0m\n\u001b[1;32m    540\u001b[0m \u001b[0;34m\u001b[0m\u001b[0m\n\u001b[1;32m    541\u001b[0m     \u001b[0;32mdef\u001b[0m \u001b[0m__call__\u001b[0m\u001b[0;34m(\u001b[0m\u001b[0mself\u001b[0m\u001b[0;34m,\u001b[0m \u001b[0;34m*\u001b[0m\u001b[0margs\u001b[0m\u001b[0;34m,\u001b[0m \u001b[0;34m**\u001b[0m\u001b[0mkwargs\u001b[0m\u001b[0;34m)\u001b[0m\u001b[0;34m:\u001b[0m\u001b[0;34m\u001b[0m\u001b[0m\n\u001b[0;32m--> 542\u001b[0;31m         \u001b[0;32mreturn\u001b[0m \u001b[0mself\u001b[0m\u001b[0;34m.\u001b[0m\u001b[0m_cached_call\u001b[0m\u001b[0;34m(\u001b[0m\u001b[0margs\u001b[0m\u001b[0;34m,\u001b[0m \u001b[0mkwargs\u001b[0m\u001b[0;34m)\u001b[0m\u001b[0;34m[\u001b[0m\u001b[0;36m0\u001b[0m\u001b[0;34m]\u001b[0m\u001b[0;34m\u001b[0m\u001b[0m\n\u001b[0m\u001b[1;32m    543\u001b[0m \u001b[0;34m\u001b[0m\u001b[0m\n\u001b[1;32m    544\u001b[0m     \u001b[0;32mdef\u001b[0m \u001b[0m__getstate__\u001b[0m\u001b[0;34m(\u001b[0m\u001b[0mself\u001b[0m\u001b[0;34m)\u001b[0m\u001b[0;34m:\u001b[0m\u001b[0;34m\u001b[0m\u001b[0m\n",
      "\u001b[0;32m/pghbio/dbmi/batmanlab/chirayu/py35/lib/python3.5/site-packages/sklearn/externals/joblib/memory.py\u001b[0m in \u001b[0;36m_cached_call\u001b[0;34m(self, args, kwargs, shelving)\u001b[0m\n\u001b[1;32m    506\u001b[0m \u001b[0;34m\u001b[0m\u001b[0m\n\u001b[1;32m    507\u001b[0m         \u001b[0;32mif\u001b[0m \u001b[0mmust_call\u001b[0m\u001b[0;34m:\u001b[0m\u001b[0;34m\u001b[0m\u001b[0m\n\u001b[0;32m--> 508\u001b[0;31m             \u001b[0mout\u001b[0m\u001b[0;34m,\u001b[0m \u001b[0mmetadata\u001b[0m \u001b[0;34m=\u001b[0m \u001b[0mself\u001b[0m\u001b[0;34m.\u001b[0m\u001b[0mcall\u001b[0m\u001b[0;34m(\u001b[0m\u001b[0;34m*\u001b[0m\u001b[0margs\u001b[0m\u001b[0;34m,\u001b[0m \u001b[0;34m**\u001b[0m\u001b[0mkwargs\u001b[0m\u001b[0;34m)\u001b[0m\u001b[0;34m\u001b[0m\u001b[0m\n\u001b[0m\u001b[1;32m    509\u001b[0m             \u001b[0;32mif\u001b[0m \u001b[0mself\u001b[0m\u001b[0;34m.\u001b[0m\u001b[0mmmap_mode\u001b[0m \u001b[0;32mis\u001b[0m \u001b[0;32mnot\u001b[0m \u001b[0;32mNone\u001b[0m\u001b[0;34m:\u001b[0m\u001b[0;34m\u001b[0m\u001b[0m\n\u001b[1;32m    510\u001b[0m                 \u001b[0;31m# Memmap the output at the first call to be consistent with\u001b[0m\u001b[0;34m\u001b[0m\u001b[0;34m\u001b[0m\u001b[0m\n",
      "\u001b[0;32m/pghbio/dbmi/batmanlab/chirayu/py35/lib/python3.5/site-packages/sklearn/externals/joblib/memory.py\u001b[0m in \u001b[0;36mcall\u001b[0;34m(self, *args, **kwargs)\u001b[0m\n\u001b[1;32m    706\u001b[0m         \u001b[0;32mif\u001b[0m \u001b[0mself\u001b[0m\u001b[0;34m.\u001b[0m\u001b[0m_verbose\u001b[0m \u001b[0;34m>\u001b[0m \u001b[0;36m0\u001b[0m\u001b[0;34m:\u001b[0m\u001b[0;34m\u001b[0m\u001b[0m\n\u001b[1;32m    707\u001b[0m             \u001b[0mprint\u001b[0m\u001b[0;34m(\u001b[0m\u001b[0mformat_call\u001b[0m\u001b[0;34m(\u001b[0m\u001b[0mself\u001b[0m\u001b[0;34m.\u001b[0m\u001b[0mfunc\u001b[0m\u001b[0;34m,\u001b[0m \u001b[0margs\u001b[0m\u001b[0;34m,\u001b[0m \u001b[0mkwargs\u001b[0m\u001b[0;34m)\u001b[0m\u001b[0;34m)\u001b[0m\u001b[0;34m\u001b[0m\u001b[0m\n\u001b[0;32m--> 708\u001b[0;31m         \u001b[0moutput\u001b[0m \u001b[0;34m=\u001b[0m \u001b[0mself\u001b[0m\u001b[0;34m.\u001b[0m\u001b[0mfunc\u001b[0m\u001b[0;34m(\u001b[0m\u001b[0;34m*\u001b[0m\u001b[0margs\u001b[0m\u001b[0;34m,\u001b[0m \u001b[0;34m**\u001b[0m\u001b[0mkwargs\u001b[0m\u001b[0;34m)\u001b[0m\u001b[0;34m\u001b[0m\u001b[0m\n\u001b[0m\u001b[1;32m    709\u001b[0m         self.store_backend.dump_item(\n\u001b[1;32m    710\u001b[0m             [func_id, args_id], output, verbose=self._verbose)\n",
      "\u001b[0;32m/pghbio/dbmi/batmanlab/chirayu/py35/lib/python3.5/site-packages/skl_groups/divergences/knn.py\u001b[0m in \u001b[0;36m_est_divs\u001b[0;34m(X, Y, Y_indices, Y_rhos, div_funcs, Ks, do_sym, clamp, version, min_dist, flann_args, n_jobs)\u001b[0m\n\u001b[1;32m    481\u001b[0m                  \u001b[0mdo_sym\u001b[0m\u001b[0;34m,\u001b[0m \u001b[0mto_self\u001b[0m\u001b[0;34m,\u001b[0m\u001b[0;34m\u001b[0m\u001b[0m\n\u001b[1;32m    482\u001b[0m                  \u001b[0mProgressLogger\u001b[0m\u001b[0;34m(\u001b[0m\u001b[0mprogress_logger\u001b[0m\u001b[0;34m,\u001b[0m \u001b[0mname\u001b[0m\u001b[0;34m=\u001b[0m\u001b[0;34m\"cross-divergences\"\u001b[0m\u001b[0;34m)\u001b[0m\u001b[0;34m,\u001b[0m\u001b[0;34m\u001b[0m\u001b[0m\n\u001b[0;32m--> 483\u001b[0;31m                  n_jobs, min_dist, clamp)\n\u001b[0m\u001b[1;32m    484\u001b[0m \u001b[0;34m\u001b[0m\u001b[0m\n\u001b[1;32m    485\u001b[0m     \u001b[0mlogger\u001b[0m\u001b[0;34m.\u001b[0m\u001b[0minfo\u001b[0m\u001b[0;34m(\u001b[0m\u001b[0;34m\"Computing meta-divergences...\"\u001b[0m\u001b[0;34m)\u001b[0m\u001b[0;34m\u001b[0m\u001b[0m\n",
      "\u001b[0;32mskl_groups_accel/knn_divs.pyx\u001b[0m in \u001b[0;36mskl_groups_accel.knn_divs._estimate_cross_divs\u001b[0;34m()\u001b[0m\n",
      "\u001b[0;32m/pghbio/dbmi/batmanlab/chirayu/py35/lib/python3.5/site-packages/skl_groups_accel-0.1.7-py3.5-linux-x86_64.egg/skl_groups_accel/knn_divs.cpython-35m-x86_64-linux-gnu.so\u001b[0m in \u001b[0;36mView.MemoryView.memoryview_cwrapper\u001b[0;34m()\u001b[0m\n",
      "\u001b[0;32m/pghbio/dbmi/batmanlab/chirayu/py35/lib/python3.5/site-packages/skl_groups_accel-0.1.7-py3.5-linux-x86_64.egg/skl_groups_accel/knn_divs.cpython-35m-x86_64-linux-gnu.so\u001b[0m in \u001b[0;36mView.MemoryView.memoryview.__cinit__\u001b[0;34m()\u001b[0m\n",
      "\u001b[0;31mValueError\u001b[0m: ndarray is not C-contiguous"
     ]
    }
   ],
   "source": [
    "calculate_div_matrix('/pylon5/ac5616p/debdas/SCCORProcessing/COPD_SCCOR_features_db.h5', 'Haralick_Features', 'kl', '/pylon5/ac5616p/debdas/SCCORProcessing/tmp', 3, '/pylon5/ac5616p/debdas/SCCORProcessing/tmp/COPD_SCCORkl_div_3nn_mat.h5')"
   ]
  },
  {
   "cell_type": "code",
   "execution_count": 12,
   "metadata": {},
   "outputs": [],
   "source": []
  },
  {
   "cell_type": "code",
   "execution_count": null,
   "metadata": {},
   "outputs": [],
   "source": [
    "/pghbio/dbmi/batmanlab/chirayu/Data/COPDGene/Test_Reproducing_Phase-1_Images/22778J/Phase-1/Isotropic/22778J_INSP_SHARP_UAB_COPD_BSpline_Iso1.0mm.nii.gz\n",
    "\n",
    "/pghbio/dbmi/batmanlab/chirayu/Data/COPDGene/Images/15567F/Phase-2/Isotropic/15567F_INSP_STD_343_PIT_COPD2_BSpline_Iso1.0mm.nii.gz\n",
    "\n",
    "/pylon5/ac5616p/debdas/SCCORProcessing/nifti/1-0808-8/Date_20110420/002/002_Iso1.0mm.nii.gz\n",
    "\n",
    "/pylon5/ac5616p/debdas/SCCORProcessing/nifti/1-0803-7/Date_20110309/002/002_Iso1.0mm.nii.gz"
   ]
  },
  {
   "cell_type": "code",
   "execution_count": 13,
   "metadata": {},
   "outputs": [
    {
     "name": "stdout",
     "output_type": "stream",
     "text": [
      "image size: (360, 360, 305)\n",
      "image spacing: (1.0, 1.0, 1.0)\n"
     ]
    }
   ],
   "source": [
    "nifti_img_path = '/pghbio/dbmi/batmanlab/chirayu/Data/COPDGene/Test_Reproducing_Phase-1_Images/22778J/Phase-1/Isotropic/22778J_INSP_SHARP_UAB_COPD_BSpline_Iso1.0mm.nii.gz'\n",
    "file_reader = sitk.ImageFileReader()\n",
    "file_reader.SetFileName(nifti_img_path)\n",
    "file_reader.ReadImageInformation()\n",
    "print('image size: {0}\\nimage spacing: {1}'.format(file_reader.GetSize(),\n",
    "                                                    file_reader.GetSpacing()))"
   ]
  },
  {
   "cell_type": "code",
   "execution_count": 14,
   "metadata": {},
   "outputs": [
    {
     "name": "stdout",
     "output_type": "stream",
     "text": [
      "image size: (343, 343, 288)\n",
      "image spacing: (1.0, 1.0, 1.0)\n"
     ]
    }
   ],
   "source": [
    "nifti_img_path = '/pghbio/dbmi/batmanlab/chirayu/Data/COPDGene/Images/15567F/Phase-2/Isotropic/15567F_INSP_STD_343_PIT_COPD2_BSpline_Iso1.0mm.nii.gz'\n",
    "file_reader = sitk.ImageFileReader()\n",
    "file_reader.SetFileName(nifti_img_path)\n",
    "file_reader.ReadImageInformation()\n",
    "print('image size: {0}\\nimage spacing: {1}'.format(file_reader.GetSize(),\n",
    "                                                    file_reader.GetSpacing()))"
   ]
  },
  {
   "cell_type": "code",
   "execution_count": 15,
   "metadata": {},
   "outputs": [
    {
     "name": "stdout",
     "output_type": "stream",
     "text": [
      "image size: (291, 291, 316)\n",
      "image spacing: (1.0, 1.0, 1.0)\n"
     ]
    }
   ],
   "source": [
    "nifti_img_path = '/pylon5/ac5616p/debdas/SCCORProcessing/nifti/1-0808-8/Date_20110420/002/002_Iso1.0mm.nii.gz'\n",
    "file_reader = sitk.ImageFileReader()\n",
    "file_reader.SetFileName(nifti_img_path)\n",
    "file_reader.ReadImageInformation()\n",
    "print('image size: {0}\\nimage spacing: {1}'.format(file_reader.GetSize(),\n",
    "                                                    file_reader.GetSpacing()))"
   ]
  },
  {
   "cell_type": "code",
   "execution_count": 16,
   "metadata": {},
   "outputs": [
    {
     "name": "stdout",
     "output_type": "stream",
     "text": [
      "image size: (330, 330, 321)\n",
      "image spacing: (1.0, 1.0, 1.0)\n"
     ]
    }
   ],
   "source": [
    "nifti_img_path = '/pylon5/ac5616p/debdas/SCCORProcessing/nifti/1-0803-7/Date_20110309/002/002_Iso1.0mm.nii.gz'\n",
    "file_reader = sitk.ImageFileReader()\n",
    "file_reader.SetFileName(nifti_img_path)\n",
    "file_reader.ReadImageInformation()\n",
    "print('image size: {0}\\nimage spacing: {1}'.format(file_reader.GetSize(),\n",
    "                                                    file_reader.GetSpacing()))"
   ]
  },
  {
   "cell_type": "code",
   "execution_count": null,
   "metadata": {},
   "outputs": [],
   "source": []
  }
 ],
 "metadata": {
  "kernelspec": {
   "display_name": "kong_py35",
   "language": "python",
   "name": "kong_py35"
  },
  "language_info": {
   "codemirror_mode": {
    "name": "ipython",
    "version": 3
   },
   "file_extension": ".py",
   "mimetype": "text/x-python",
   "name": "python",
   "nbconvert_exporter": "python",
   "pygments_lexer": "ipython3",
   "version": "3.5.6"
  }
 },
 "nbformat": 4,
 "nbformat_minor": 2
}
