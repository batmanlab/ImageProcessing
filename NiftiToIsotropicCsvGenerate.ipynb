{
 "cells": [
  {
   "cell_type": "code",
   "execution_count": 1,
   "metadata": {},
   "outputs": [],
   "source": [
    "import pandas as pd\n",
    "import os"
   ]
  },
  {
   "cell_type": "code",
   "execution_count": 2,
   "metadata": {},
   "outputs": [
    {
     "data": {
      "text/html": [
       "<div>\n",
       "<style scoped>\n",
       "    .dataframe tbody tr th:only-of-type {\n",
       "        vertical-align: middle;\n",
       "    }\n",
       "\n",
       "    .dataframe tbody tr th {\n",
       "        vertical-align: top;\n",
       "    }\n",
       "\n",
       "    .dataframe thead th {\n",
       "        text-align: right;\n",
       "    }\n",
       "</style>\n",
       "<table border=\"1\" class=\"dataframe\">\n",
       "  <thead>\n",
       "    <tr style=\"text-align: right;\">\n",
       "      <th></th>\n",
       "      <th>0</th>\n",
       "      <th>1</th>\n",
       "    </tr>\n",
       "  </thead>\n",
       "  <tbody>\n",
       "    <tr>\n",
       "      <th>0</th>\n",
       "      <td>/pghbio/dbmi/batmanlab/Data/UPMC_Lung_Images/S...</td>\n",
       "      <td>/pylon5/ac5616p/debdas/SCCORProcessing/nifti/1...</td>\n",
       "    </tr>\n",
       "    <tr>\n",
       "      <th>1</th>\n",
       "      <td>/pghbio/dbmi/batmanlab/Data/UPMC_Lung_Images/S...</td>\n",
       "      <td>/pylon5/ac5616p/debdas/SCCORProcessing/nifti/1...</td>\n",
       "    </tr>\n",
       "    <tr>\n",
       "      <th>2</th>\n",
       "      <td>/pghbio/dbmi/batmanlab/Data/UPMC_Lung_Images/S...</td>\n",
       "      <td>/pylon5/ac5616p/debdas/SCCORProcessing/nifti/1...</td>\n",
       "    </tr>\n",
       "    <tr>\n",
       "      <th>3</th>\n",
       "      <td>/pghbio/dbmi/batmanlab/Data/UPMC_Lung_Images/S...</td>\n",
       "      <td>/pylon5/ac5616p/debdas/SCCORProcessing/nifti/1...</td>\n",
       "    </tr>\n",
       "    <tr>\n",
       "      <th>4</th>\n",
       "      <td>/pghbio/dbmi/batmanlab/Data/UPMC_Lung_Images/S...</td>\n",
       "      <td>/pylon5/ac5616p/debdas/SCCORProcessing/nifti/1...</td>\n",
       "    </tr>\n",
       "  </tbody>\n",
       "</table>\n",
       "</div>"
      ],
      "text/plain": [
       "                                                   0  \\\n",
       "0  /pghbio/dbmi/batmanlab/Data/UPMC_Lung_Images/S...   \n",
       "1  /pghbio/dbmi/batmanlab/Data/UPMC_Lung_Images/S...   \n",
       "2  /pghbio/dbmi/batmanlab/Data/UPMC_Lung_Images/S...   \n",
       "3  /pghbio/dbmi/batmanlab/Data/UPMC_Lung_Images/S...   \n",
       "4  /pghbio/dbmi/batmanlab/Data/UPMC_Lung_Images/S...   \n",
       "\n",
       "                                                   1  \n",
       "0  /pylon5/ac5616p/debdas/SCCORProcessing/nifti/1...  \n",
       "1  /pylon5/ac5616p/debdas/SCCORProcessing/nifti/1...  \n",
       "2  /pylon5/ac5616p/debdas/SCCORProcessing/nifti/1...  \n",
       "3  /pylon5/ac5616p/debdas/SCCORProcessing/nifti/1...  \n",
       "4  /pylon5/ac5616p/debdas/SCCORProcessing/nifti/1...  "
      ]
     },
     "execution_count": 2,
     "metadata": {},
     "output_type": "execute_result"
    }
   ],
   "source": [
    "dicom_df = pd.read_csv('/pylon5/ac5616p/debdas/SCCORProcessing/SCCOR_batch_df.csv', header=None)\n",
    "dicom_df.head()"
   ]
  },
  {
   "cell_type": "code",
   "execution_count": 3,
   "metadata": {},
   "outputs": [
    {
     "data": {
      "text/plain": [
       "5846"
      ]
     },
     "execution_count": 3,
     "metadata": {},
     "output_type": "execute_result"
    }
   ],
   "source": [
    "len(dicom_df)"
   ]
  },
  {
   "cell_type": "code",
   "execution_count": 4,
   "metadata": {},
   "outputs": [
    {
     "data": {
      "text/plain": [
       "'/pylon5/ac5616p/debdas/SCCORProcessing/nifti/1-0253-8/Date_20080628/003'"
      ]
     },
     "execution_count": 4,
     "metadata": {},
     "output_type": "execute_result"
    }
   ],
   "source": [
    "dicom_df[1][3]"
   ]
  },
  {
   "cell_type": "code",
   "execution_count": 5,
   "metadata": {},
   "outputs": [],
   "source": [
    "total_cases = len(dicom_df)\n",
    "target_img_list = []\n",
    "for i in range(total_cases):\n",
    "    nifti_path = dicom_df[1][i]+'/'+dicom_df[1][i].split('/')[-1]+'.nii.gz'\n",
    "    iso_path = dicom_df[1][i]+'/'+dicom_df[1][i].split('/')[-1]+'_Iso1.0mm.nii.gz'\n",
    "    target_img_list.append((nifti_path,iso_path))\n",
    "    \n",
    "SCCOR_batch_df = pd.DataFrame(target_img_list)\n",
    "SCCOR_batch_df.to_csv('/pylon5/ac5616p/debdas/SCCORProcessing/SCCOR_batch_ISO_df.csv', index=False, header=False)"
   ]
  },
  {
   "cell_type": "code",
   "execution_count": 7,
   "metadata": {},
   "outputs": [
    {
     "data": {
      "text/plain": [
       "'/pylon5/ac5616p/debdas/SCCORProcessing/nifti/1-0253-8/Date_20080628/001/001_Iso1.0mm.nii.gz'"
      ]
     },
     "execution_count": 7,
     "metadata": {},
     "output_type": "execute_result"
    }
   ],
   "source": [
    "SCCOR_batch_df[1][0]"
   ]
  },
  {
   "cell_type": "code",
   "execution_count": 12,
   "metadata": {},
   "outputs": [],
   "source": [
    "total_cases = len(dicom_df)\n",
    "target_img_list = []\n",
    "for i in range(total_cases):\n",
    "    output_path = dicom_df[1][i]+'/'+dicom_df[1][i].split('/')[-1]+'_partialLabelMapUnet.nii.gz'\n",
    "    iso_path = dicom_df[1][i]+'/'+dicom_df[1][i].split('/')[-1]+'_Iso1.0mm.nii.gz'\n",
    "    target_img_list.append((iso_path,output_path))\n",
    "    \n",
    "SCCOR_batch_df = pd.DataFrame(target_img_list)\n",
    "SCCOR_batch_df.to_csv('/pylon5/ac5616p/debdas/SCCORProcessing/SCCOR_batch_partialLabelMapUnet_df.csv', index=False, header=False)"
   ]
  },
  {
   "cell_type": "code",
   "execution_count": 18,
   "metadata": {},
   "outputs": [
    {
     "data": {
      "text/plain": [
       "'/pylon5/ac5616p/debdas/SCCORProcessing/nifti/1-0253-8/Date_20080628/002/002_lobeSegmentationUnet.nii.gz'"
      ]
     },
     "execution_count": 18,
     "metadata": {},
     "output_type": "execute_result"
    }
   ],
   "source": [
    "SCCOR_batch_df[1][1]"
   ]
  },
  {
   "cell_type": "code",
   "execution_count": 16,
   "metadata": {},
   "outputs": [],
   "source": [
    "total_cases = len(dicom_df)\n",
    "target_img_list = []\n",
    "for i in range(total_cases):\n",
    "    output_path = dicom_df[1][i]+'/'+dicom_df[1][i].split('/')[-1]+'_lobeSegmentationUnet.nii.gz'\n",
    "    iso_path = dicom_df[1][i]+'/'+dicom_df[1][i].split('/')[-1]+'_Iso1.0mm.nii.gz'\n",
    "    target_img_list.append((iso_path,output_path))\n",
    "    \n",
    "SCCOR_batch_df = pd.DataFrame(target_img_list)\n",
    "SCCOR_batch_df.to_csv('/pylon5/ac5616p/debdas/SCCORProcessing/SCCOR_batch_lobeSegmentationUnet_df.csv', index=False, header=False)"
   ]
  },
  {
   "cell_type": "code",
   "execution_count": 17,
   "metadata": {},
   "outputs": [
    {
     "data": {
      "text/plain": [
       "'/pylon5/ac5616p/debdas/SCCORProcessing/nifti/1-0253-8/Date_20080628/001/001_lobeSegmentationUnet.nii.gz'"
      ]
     },
     "execution_count": 17,
     "metadata": {},
     "output_type": "execute_result"
    }
   ],
   "source": [
    "SCCOR_batch_df[1][0]"
   ]
  },
  {
   "cell_type": "code",
   "execution_count": 3,
   "metadata": {},
   "outputs": [],
   "source": [
    "total_cases = len(dicom_df)\n",
    "target_img_list = []\n",
    "for i in range(total_cases):\n",
    "    input_path = dicom_df[1][i]+'/'+dicom_df[1][i].split('/')[-1]+'_partialLabelMapUnet.nii.gz'\n",
    "    output_path = dicom_df[1][i]+'/'+dicom_df[1][i].split('/')[-1]+'_Iso1.0mm_partialLabelMap_BinaryFiltered.nii.gz'\n",
    "    if os.path.exists(input_path):\n",
    "        target_img_list.append((input_path,output_path))\n",
    "    \n",
    "SCCOR_batch_df = pd.DataFrame(target_img_list)\n",
    "SCCOR_batch_df.to_csv('/pylon5/ac5616p/debdas/SCCORProcessing/SCCOR_batch_masking.csv', index=False, header=False)"
   ]
  },
  {
   "cell_type": "code",
   "execution_count": null,
   "metadata": {},
   "outputs": [],
   "source": []
  },
  {
   "cell_type": "code",
   "execution_count": 3,
   "metadata": {},
   "outputs": [],
   "source": [
    "total_cases = len(dicom_df)\n",
    "target_img_list = []\n",
    "for i in range(total_cases):\n",
    "    input_path = dicom_df[1][i]+'/'+dicom_df[1][i].split('/')[-1]+'_Iso1.0mm.nii.gz'\n",
    "    output_path = dicom_df[1][i]+'/'+dicom_df[1][i].split('/')[-1]+'_Iso1.0mm_SuperVoxel_Param30mm.nii.gz'\n",
    "    mask_path = dicom_df[1][i]+'/'+dicom_df[1][i].split('/')[-1]+'_Iso1.0mm_partialLabelMap_BinaryFiltered.nii.gz'\n",
    "    if os.path.exists(input_path) and os.path.exists(mask_path):\n",
    "        target_img_list.append((input_path,output_path,mask_path))\n",
    "    \n",
    "SCCOR_batch_df = pd.DataFrame(target_img_list)\n",
    "SCCOR_batch_df.to_csv('/pylon5/ac5616p/debdas/SCCORProcessing/SCCOR_batch_supervoxels.csv', index=False, header=False)"
   ]
  },
  {
   "cell_type": "code",
   "execution_count": null,
   "metadata": {},
   "outputs": [],
   "source": []
  },
  {
   "cell_type": "code",
   "execution_count": 6,
   "metadata": {},
   "outputs": [],
   "source": [
    "total_cases = len(dicom_df)\n",
    "target_img_list = []\n",
    "for i in range(total_cases):\n",
    "    input_path = dicom_df[1][i]+'/'+dicom_df[1][i].split('/')[-1]+'_Iso1.0mm.nii.gz'\n",
    "    output_path = dicom_df[1][i]+'/'+dicom_df[1][i].split('/')[-1]+'_partialLabelMapCIP.nii.gz'\n",
    "    if os.path.exists(input_path):\n",
    "        target_img_list.append((input_path,output_path))\n",
    "    \n",
    "SCCOR_batch_df = pd.DataFrame(target_img_list)\n",
    "SCCOR_batch_df.to_csv('/pylon5/ac5616p/debdas/SCCORProcessing/SCCOR_batch_partialLabelMap.csv', index=False, header=False)"
   ]
  },
  {
   "cell_type": "code",
   "execution_count": 7,
   "metadata": {},
   "outputs": [],
   "source": [
    "total_cases = len(dicom_df)\n",
    "target_img_list = []\n",
    "for i in range(total_cases):\n",
    "    input_path = dicom_df[1][i]+'/'+dicom_df[1][i].split('/')[-1]+'_Iso1.0mm.nii.gz'\n",
    "    output_path = dicom_df[1][i]+'/'+dicom_df[1][i].split('/')[-1]+'_lobeSegmentationCIP.nii.gz'\n",
    "    if os.path.exists(input_path):\n",
    "        target_img_list.append((input_path,output_path))\n",
    "    \n",
    "SCCOR_batch_df = pd.DataFrame(target_img_list)\n",
    "SCCOR_batch_df.to_csv('/pylon5/ac5616p/debdas/SCCORProcessing/SCCOR_batch_lobeSegmentationCIP.csv', index=False, header=False)"
   ]
  },
  {
   "cell_type": "code",
   "execution_count": null,
   "metadata": {},
   "outputs": [],
   "source": []
  },
  {
   "cell_type": "code",
   "execution_count": 8,
   "metadata": {},
   "outputs": [],
   "source": [
    "total_cases = len(dicom_df)\n",
    "target_img_list = []\n",
    "for i in range(total_cases):\n",
    "    input_path = dicom_df[1][i]+'/'+dicom_df[1][i].split('/')[-1]+'_Iso1.0mm.nii.gz'\n",
    "    output_path = dicom_df[1][i]+'/'+dicom_df[1][i].split('/')[-1]+'_Iso1.0mm_fHOG.nii.gz'\n",
    "    mask_path = dicom_df[1][i]+'/'+dicom_df[1][i].split('/')[-1]+'_Iso1.0mm_partialLabelMap_BinaryFiltered.nii.gz'\n",
    "    if os.path.exists(input_path) and os.path.exists(mask_path):\n",
    "        target_img_list.append((input_path,output_path,mask_path))\n",
    "    \n",
    "SCCOR_batch_df = pd.DataFrame(target_img_list)\n",
    "SCCOR_batch_df.to_csv('/pylon5/ac5616p/debdas/SCCORProcessing/SCCOR_batch_fHOG_df.csv', index=False, header=False)"
   ]
  },
  {
   "cell_type": "code",
   "execution_count": null,
   "metadata": {},
   "outputs": [],
   "source": []
  },
  {
   "cell_type": "code",
   "execution_count": null,
   "metadata": {},
   "outputs": [],
   "source": []
  },
  {
   "cell_type": "code",
   "execution_count": 3,
   "metadata": {},
   "outputs": [
    {
     "data": {
      "text/html": [
       "<div>\n",
       "<style scoped>\n",
       "    .dataframe tbody tr th:only-of-type {\n",
       "        vertical-align: middle;\n",
       "    }\n",
       "\n",
       "    .dataframe tbody tr th {\n",
       "        vertical-align: top;\n",
       "    }\n",
       "\n",
       "    .dataframe thead th {\n",
       "        text-align: right;\n",
       "    }\n",
       "</style>\n",
       "<table border=\"1\" class=\"dataframe\">\n",
       "  <thead>\n",
       "    <tr style=\"text-align: right;\">\n",
       "      <th></th>\n",
       "      <th>0</th>\n",
       "      <th>1</th>\n",
       "    </tr>\n",
       "  </thead>\n",
       "  <tbody>\n",
       "    <tr>\n",
       "      <th>0</th>\n",
       "      <td>/pylon5/ac5616p/debdas/SCCORProcessing/lung_dc...</td>\n",
       "      <td>/pylon5/ac5616p/debdas/SCCORProcessing/lung_ni...</td>\n",
       "    </tr>\n",
       "    <tr>\n",
       "      <th>1</th>\n",
       "      <td>/pylon5/ac5616p/debdas/SCCORProcessing/lung_dc...</td>\n",
       "      <td>/pylon5/ac5616p/debdas/SCCORProcessing/lung_ni...</td>\n",
       "    </tr>\n",
       "    <tr>\n",
       "      <th>2</th>\n",
       "      <td>/pylon5/ac5616p/debdas/SCCORProcessing/lung_dc...</td>\n",
       "      <td>/pylon5/ac5616p/debdas/SCCORProcessing/lung_ni...</td>\n",
       "    </tr>\n",
       "    <tr>\n",
       "      <th>3</th>\n",
       "      <td>/pylon5/ac5616p/debdas/SCCORProcessing/lung_dc...</td>\n",
       "      <td>/pylon5/ac5616p/debdas/SCCORProcessing/lung_ni...</td>\n",
       "    </tr>\n",
       "    <tr>\n",
       "      <th>4</th>\n",
       "      <td>/pylon5/ac5616p/debdas/SCCORProcessing/lung_dc...</td>\n",
       "      <td>/pylon5/ac5616p/debdas/SCCORProcessing/lung_ni...</td>\n",
       "    </tr>\n",
       "  </tbody>\n",
       "</table>\n",
       "</div>"
      ],
      "text/plain": [
       "                                                   0  \\\n",
       "0  /pylon5/ac5616p/debdas/SCCORProcessing/lung_dc...   \n",
       "1  /pylon5/ac5616p/debdas/SCCORProcessing/lung_dc...   \n",
       "2  /pylon5/ac5616p/debdas/SCCORProcessing/lung_dc...   \n",
       "3  /pylon5/ac5616p/debdas/SCCORProcessing/lung_dc...   \n",
       "4  /pylon5/ac5616p/debdas/SCCORProcessing/lung_dc...   \n",
       "\n",
       "                                                   1  \n",
       "0  /pylon5/ac5616p/debdas/SCCORProcessing/lung_ni...  \n",
       "1  /pylon5/ac5616p/debdas/SCCORProcessing/lung_ni...  \n",
       "2  /pylon5/ac5616p/debdas/SCCORProcessing/lung_ni...  \n",
       "3  /pylon5/ac5616p/debdas/SCCORProcessing/lung_ni...  \n",
       "4  /pylon5/ac5616p/debdas/SCCORProcessing/lung_ni...  "
      ]
     },
     "execution_count": 3,
     "metadata": {},
     "output_type": "execute_result"
    }
   ],
   "source": [
    "dcm_path = \"/pylon5/ac5616p/debdas/SCCORProcessing/lung_dcm/\"\n",
    "nii_path = \"/pylon5/ac5616p/debdas/SCCORProcessing/lung_nix/\"\n",
    "target_img_list = []\n",
    "for dcm in os.listdir(dcm_path):\n",
    "    input_path = dcm_path + dcm\n",
    "    output_path = nii_path + dcm.split(\".\")[0] + '.nii.gx'\n",
    "    target_img_list.append((input_path,output_path))\n",
    "SCCOR_batch_df = pd.DataFrame(target_img_list)\n",
    "SCCOR_batch_df.head()"
   ]
  },
  {
   "cell_type": "code",
   "execution_count": null,
   "metadata": {},
   "outputs": [],
   "source": []
  },
  {
   "cell_type": "code",
   "execution_count": null,
   "metadata": {},
   "outputs": [],
   "source": []
  },
  {
   "cell_type": "code",
   "execution_count": 4,
   "metadata": {},
   "outputs": [],
   "source": [
    "total_cases = len(dicom_df)\n",
    "target_img_list = []\n",
    "for i in range(total_cases):\n",
    "    nii_input_file = dicom_df[1][i]+'/'+dicom_df[1][i].split('/')[-1]+'_Iso1.0mm.nii.gz'\n",
    "    sv_input_file = dicom_df[1][i]+'/'+dicom_df[1][i].split('/')[-1]+'_Iso1.0mm_SuperVoxel_Param30mm.nii.gz'\n",
    "    fhog_input_file = dicom_df[1][i]+'/'+dicom_df[1][i].split('/')[-1]+'_Iso1.0mm_fHOG.nii.gz'\n",
    "    output_file = dicom_df[1][i]+'/'+dicom_df[1][i].split('/')[-1]+'_Iso1.0mm_SuperVoxel_Param30mm_fHOG_Hist_Features.csv.gz'\n",
    "    hdf5_output_file = dicom_df[1][i]+'/'+dicom_df[1][i].split('/')[-1]+'_Iso1.0mm_SuperVoxel_Param30mm_fHOG_Hist_Features.h5'\n",
    "    mask_file = dicom_df[1][i]+'/'+dicom_df[1][i].split('/')[-1]+'_Iso1.0mm_partialLabelMap_BinaryFiltered.nii.gz'\n",
    "    \n",
    "    if os.path.exists(nii_input_file) and os.path.exists(sv_input_file) and os.path.exists(fhog_input_file) and os.path.exists(mask_file):\n",
    "        target_img_list.append((nii_input_file,sv_input_file,fhog_input_file,output_file,hdf5_output_file,mask_file))\n",
    "    \n",
    "SCCOR_batch_df = pd.DataFrame(target_img_list)\n",
    "SCCOR_batch_df.to_csv('/pylon5/ac5616p/debdas/SCCORProcessing/SCCOR_batch_fHOG_FeatureSummary.csv', index=False, header=False)"
   ]
  },
  {
   "cell_type": "code",
   "execution_count": 3,
   "metadata": {},
   "outputs": [],
   "source": [
    "total_cases = len(dicom_df)\n",
    "target_img_list = []\n",
    "for i in range(total_cases):\n",
    "    nii_input_file = dicom_df[1][i]+'/'+dicom_df[1][i].split('/')[-1]+'_Iso1.0mm.nii.gz'\n",
    "    sv_input_file = dicom_df[1][i]+'/'+dicom_df[1][i].split('/')[-1]+'_Iso1.0mm_SuperVoxel_Param30mm.nii.gz'\n",
    "    output_file = dicom_df[1][i]+'/'+dicom_df[1][i].split('/')[-1]+'_Iso1.0mm_SuperVoxel_Param30mm_haralick.csv.gz'\n",
    "    hdf5_output_file = dicom_df[1][i]+'/'+dicom_df[1][i].split('/')[-1]+'_Iso1.0mm_SuperVoxel_Param30mm_haralick.h5'\n",
    "    mask_file = dicom_df[1][i]+'/'+dicom_df[1][i].split('/')[-1]+'_Iso1.0mm_partialLabelMap_BinaryFiltered.nii.gz'\n",
    "    \n",
    "    if os.path.exists(nii_input_file) and os.path.exists(sv_input_file) and os.path.exists(mask_file):\n",
    "        target_img_list.append((nii_input_file,sv_input_file,output_file,hdf5_output_file,mask_file))\n",
    "    \n",
    "SCCOR_batch_df = pd.DataFrame(target_img_list)\n",
    "SCCOR_batch_df.to_csv('/pylon5/ac5616p/debdas/SCCORProcessing/SCCOR_batch_HaralickFeature.csv', index=False, header=False)"
   ]
  },
  {
   "cell_type": "code",
   "execution_count": null,
   "metadata": {},
   "outputs": [],
   "source": []
  },
  {
   "cell_type": "code",
   "execution_count": null,
   "metadata": {},
   "outputs": [],
   "source": []
  },
  {
   "cell_type": "code",
   "execution_count": 3,
   "metadata": {},
   "outputs": [
    {
     "data": {
      "text/plain": [
       "'/pylon5/ac5616p/debdas/SCCORProcessing/nifti/1-0253-8/Date_20080628/001'"
      ]
     },
     "execution_count": 3,
     "metadata": {},
     "output_type": "execute_result"
    }
   ],
   "source": [
    "dicom_df[1][0]"
   ]
  },
  {
   "cell_type": "code",
   "execution_count": null,
   "metadata": {},
   "outputs": [],
   "source": []
  },
  {
   "cell_type": "code",
   "execution_count": 5,
   "metadata": {},
   "outputs": [],
   "source": [
    "total_cases = len(dicom_df)\n",
    "target_img_list = []\n",
    "for i in range(total_cases):\n",
    "    filename_split = dicom_df[1][i].split('/')\n",
    "    patient_info = filename_split[6]+'#'+filename_split[7]+'#'+filename_split[8]\n",
    "    nii_input_file = dicom_df[1][i]+'/'+filename_split[-1]+'_Iso1.0mm.nii.gz'\n",
    "    sv_input_file = dicom_df[1][i]+'/'+filename_split[-1]+'_Iso1.0mm_SuperVoxel_Param30mm.nii.gz'\n",
    "    hdf5_file1 = dicom_df[1][i]+'/'+filename_split[-1]+'_Iso1.0mm_SuperVoxel_Param30mm_fHOG_Hist_Features.h5'\n",
    "    hdf5_file2 = dicom_df[1][i]+'/'+filename_split[-1]+'_Iso1.0mm_SuperVoxel_Param30mm_haralick.h5'\n",
    "\n",
    "    \n",
    "    if os.path.exists(nii_input_file) and os.path.exists(sv_input_file) and os.path.exists(hdf5_file1) and os.path.exists(hdf5_file2):\n",
    "        target_img_list.append((patient_info,nii_input_file,sv_input_file,hdf5_file1,hdf5_file2))\n",
    "        \n",
    "    if i > 20:\n",
    "        break\n",
    "    \n",
    "SCCOR_batch_df = pd.DataFrame(target_img_list)\n",
    "SCCOR_batch_df.to_csv('/pylon5/ac5616p/debdas/SCCORProcessing/SCCOR_FeatureSource.csv', index=False, header=False)"
   ]
  },
  {
   "cell_type": "code",
   "execution_count": null,
   "metadata": {},
   "outputs": [],
   "source": []
  }
 ],
 "metadata": {
  "kernelspec": {
   "display_name": "Python 3",
   "language": "python",
   "name": "python3"
  },
  "language_info": {
   "codemirror_mode": {
    "name": "ipython",
    "version": 3
   },
   "file_extension": ".py",
   "mimetype": "text/x-python",
   "name": "python",
   "nbconvert_exporter": "python",
   "pygments_lexer": "ipython3",
   "version": "3.6.4"
  }
 },
 "nbformat": 4,
 "nbformat_minor": 2
}
