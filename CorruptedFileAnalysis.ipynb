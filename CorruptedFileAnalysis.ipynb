{
 "cells": [
  {
   "cell_type": "code",
   "execution_count": 1,
   "metadata": {},
   "outputs": [],
   "source": [
    "import os\n",
    "import sys\n",
    "import glob\n",
    "import pandas as pd\n",
    "\n",
    "from multiprocessing import Pool\n",
    "import multiprocessing as mp\n",
    "\n",
    "orig_path = '/pghbio/dbmi/batmanlab/Data/UPMC_Lung_Images/SCCOR/CT_Exams/{subj}/{visitdate}/{subdir}/'\n",
    "regen_path = '/pylon5/ac5616p/debdas/SCCORProcessing/nifti/{subj}/{visitdate}/{subdir}/'"
   ]
  },
  {
   "cell_type": "code",
   "execution_count": 2,
   "metadata": {},
   "outputs": [
    {
     "name": "stdout",
     "output_type": "stream",
     "text": [
      "total_orig_subjs: 754\n"
     ]
    }
   ],
   "source": [
    "ord_dir = '/pghbio/dbmi/batmanlab/Data/UPMC_Lung_Images/SCCOR/CT_Exams/'\n",
    "orig_subjs = os.listdir(ord_dir)\n",
    "print('total_orig_subjs:',len(orig_subjs))\n",
    "subj_date_appoint = []\n",
    "for subj in orig_subjs:\n",
    "    list_dates = os.listdir(ord_dir+subj+'/')\n",
    "    for appoint_date in list_dates:\n",
    "        list_appointment = os.listdir(ord_dir+subj+'/'+appoint_date+'/')\n",
    "        for appoint in list_appointment:\n",
    "            subj_date_appoint.append(subj+'|'+appoint_date+'|'+appoint)"
   ]
  },
  {
   "cell_type": "code",
   "execution_count": 3,
   "metadata": {},
   "outputs": [
    {
     "data": {
      "text/plain": [
       "5882"
      ]
     },
     "execution_count": 3,
     "metadata": {},
     "output_type": "execute_result"
    }
   ],
   "source": [
    "len(subj_date_appoint)"
   ]
  },
  {
   "cell_type": "code",
   "execution_count": 4,
   "metadata": {},
   "outputs": [
    {
     "name": "stdout",
     "output_type": "stream",
     "text": [
      "orig_phase1_dicom_subjs: 5882\n"
     ]
    }
   ],
   "source": [
    "orig_phase1_dicom_subjs = [subj for subj in subj_date_appoint if os.path.exists(orig_path.format(subj=subj.split('|')[0],visitdate=subj.split('|')[1],subdir=subj.split('|')[2]))]\n",
    "print('orig_phase1_dicom_subjs:',len(orig_phase1_dicom_subjs))"
   ]
  },
  {
   "cell_type": "code",
   "execution_count": 5,
   "metadata": {},
   "outputs": [],
   "source": [
    "def count_file_size(file_path):\n",
    "    file_size = os.stat(file_path).st_size\n",
    "    file_mb_size = int(file_size / 1048576)\n",
    "    \n",
    "    return file_mb_size"
   ]
  },
  {
   "cell_type": "code",
   "execution_count": 8,
   "metadata": {},
   "outputs": [],
   "source": [
    "def count_steps(subj_date_appoint):\n",
    "    \n",
    "    subj=subj_date_appoint.split('|')[0]\n",
    "    visitdate=subj_date_appoint.split('|')[1]\n",
    "    subdir=subj_date_appoint.split('|')[2]\n",
    "    \n",
    "    # We search for the dicom folders for this subject\n",
    "    orig_dicom_path = orig_path.format(subj=subj,visitdate=visitdate,subdir=subdir)\n",
    "    orig_dicom_files = os.listdir(orig_dicom_path)\n",
    "    if len(orig_dicom_files) > 0:\n",
    "        regen_nifti_path = regen_path.format(subj=subj,visitdate=visitdate,subdir=subdir)\n",
    "        regen_nifti_file = os.path.join(regen_nifti_path,subdir + '.nii.gz')\n",
    "\n",
    "        # NIfTI file\n",
    "        if os.path.exists(regen_nifti_file):\n",
    "            nifti_size = count_file_size(regen_nifti_file)\n",
    "            if nifti_size < 1:\n",
    "                return (nifti_size, regen_nifti_file, orig_dicom_path, len(orig_dicom_files), subdir)"
   ]
  },
  {
   "cell_type": "code",
   "execution_count": 18,
   "metadata": {},
   "outputs": [
    {
     "name": "stdout",
     "output_type": "stream",
     "text": [
      "1390\n"
     ]
    }
   ],
   "source": [
    "# To boost up the speed, we run counting parallelly\n",
    "processes = mp.cpu_count()\n",
    "pool = Pool(processes=processes)\n",
    "\n",
    "# Calculate a good chunksize (based on implementation of pool.map)\n",
    "chunksize, extra = divmod(len(orig_phase1_dicom_subjs), 4 * processes)\n",
    "if extra:\n",
    "    chunksize += 1\n",
    "\n",
    "results = []\n",
    "\n",
    "for result in pool.imap_unordered(count_steps, (subj for subj in orig_phase1_dicom_subjs), chunksize=chunksize):\n",
    "    if result is not None:\n",
    "        results = results + [result]\n",
    "print(len(results))\n",
    "steps_columns = ['DicomFileCount', 'DicomName', 'NiftiName', 'NiftiFileSize', 'Series']\n",
    "steps_df = pd.DataFrame(columns = steps_columns)\n",
    "for DicomFileCount, DicomName, NiftiName, NiftiSize, Series in results:\n",
    "    row = [DicomFileCount, DicomName, NiftiName, NiftiSize, Series]\n",
    "    steps_df.loc[steps_df.shape[0]] = row\n",
    "\n",
    "pool.close()\n",
    "pool.join()"
   ]
  },
  {
   "cell_type": "code",
   "execution_count": 19,
   "metadata": {},
   "outputs": [
    {
     "data": {
      "text/html": [
       "<div>\n",
       "<style scoped>\n",
       "    .dataframe tbody tr th:only-of-type {\n",
       "        vertical-align: middle;\n",
       "    }\n",
       "\n",
       "    .dataframe tbody tr th {\n",
       "        vertical-align: top;\n",
       "    }\n",
       "\n",
       "    .dataframe thead th {\n",
       "        text-align: right;\n",
       "    }\n",
       "</style>\n",
       "<table border=\"1\" class=\"dataframe\">\n",
       "  <thead>\n",
       "    <tr style=\"text-align: right;\">\n",
       "      <th></th>\n",
       "      <th>DicomFileCount</th>\n",
       "      <th>DicomName</th>\n",
       "      <th>NiftiName</th>\n",
       "      <th>NiftiFileSize</th>\n",
       "      <th>Series</th>\n",
       "    </tr>\n",
       "  </thead>\n",
       "  <tbody>\n",
       "    <tr>\n",
       "      <th>0</th>\n",
       "      <td>0</td>\n",
       "      <td>/pylon5/ac5616p/debdas/SCCORProcessing/nifti/1...</td>\n",
       "      <td>/pghbio/dbmi/batmanlab/Data/UPMC_Lung_Images/S...</td>\n",
       "      <td>1</td>\n",
       "      <td>001</td>\n",
       "    </tr>\n",
       "    <tr>\n",
       "      <th>1</th>\n",
       "      <td>0</td>\n",
       "      <td>/pylon5/ac5616p/debdas/SCCORProcessing/nifti/1...</td>\n",
       "      <td>/pghbio/dbmi/batmanlab/Data/UPMC_Lung_Images/S...</td>\n",
       "      <td>1</td>\n",
       "      <td>001</td>\n",
       "    </tr>\n",
       "    <tr>\n",
       "      <th>2</th>\n",
       "      <td>0</td>\n",
       "      <td>/pylon5/ac5616p/debdas/SCCORProcessing/nifti/1...</td>\n",
       "      <td>/pghbio/dbmi/batmanlab/Data/UPMC_Lung_Images/S...</td>\n",
       "      <td>1</td>\n",
       "      <td>002</td>\n",
       "    </tr>\n",
       "    <tr>\n",
       "      <th>3</th>\n",
       "      <td>0</td>\n",
       "      <td>/pylon5/ac5616p/debdas/SCCORProcessing/nifti/1...</td>\n",
       "      <td>/pghbio/dbmi/batmanlab/Data/UPMC_Lung_Images/S...</td>\n",
       "      <td>1</td>\n",
       "      <td>001</td>\n",
       "    </tr>\n",
       "    <tr>\n",
       "      <th>4</th>\n",
       "      <td>0</td>\n",
       "      <td>/pylon5/ac5616p/debdas/SCCORProcessing/nifti/1...</td>\n",
       "      <td>/pghbio/dbmi/batmanlab/Data/UPMC_Lung_Images/S...</td>\n",
       "      <td>2</td>\n",
       "      <td>001</td>\n",
       "    </tr>\n",
       "  </tbody>\n",
       "</table>\n",
       "</div>"
      ],
      "text/plain": [
       "  DicomFileCount                                          DicomName  \\\n",
       "0              0  /pylon5/ac5616p/debdas/SCCORProcessing/nifti/1...   \n",
       "1              0  /pylon5/ac5616p/debdas/SCCORProcessing/nifti/1...   \n",
       "2              0  /pylon5/ac5616p/debdas/SCCORProcessing/nifti/1...   \n",
       "3              0  /pylon5/ac5616p/debdas/SCCORProcessing/nifti/1...   \n",
       "4              0  /pylon5/ac5616p/debdas/SCCORProcessing/nifti/1...   \n",
       "\n",
       "                                           NiftiName NiftiFileSize Series  \n",
       "0  /pghbio/dbmi/batmanlab/Data/UPMC_Lung_Images/S...             1    001  \n",
       "1  /pghbio/dbmi/batmanlab/Data/UPMC_Lung_Images/S...             1    001  \n",
       "2  /pghbio/dbmi/batmanlab/Data/UPMC_Lung_Images/S...             1    002  \n",
       "3  /pghbio/dbmi/batmanlab/Data/UPMC_Lung_Images/S...             1    001  \n",
       "4  /pghbio/dbmi/batmanlab/Data/UPMC_Lung_Images/S...             2    001  "
      ]
     },
     "execution_count": 19,
     "metadata": {},
     "output_type": "execute_result"
    }
   ],
   "source": [
    "steps_df.head()"
   ]
  },
  {
   "cell_type": "code",
   "execution_count": 20,
   "metadata": {},
   "outputs": [
    {
     "data": {
      "text/plain": [
       "1390"
      ]
     },
     "execution_count": 20,
     "metadata": {},
     "output_type": "execute_result"
    }
   ],
   "source": [
    "len(steps_df)"
   ]
  },
  {
   "cell_type": "code",
   "execution_count": 24,
   "metadata": {},
   "outputs": [
    {
     "data": {
      "text/plain": [
       "array(['001', '002', '004', '400'], dtype=object)"
      ]
     },
     "execution_count": 24,
     "metadata": {},
     "output_type": "execute_result"
    }
   ],
   "source": [
    "steps_df.Series.unique()"
   ]
  },
  {
   "cell_type": "code",
   "execution_count": 25,
   "metadata": {},
   "outputs": [
    {
     "data": {
      "text/plain": [
       "Series\n",
       "001    1367\n",
       "002      21\n",
       "004       1\n",
       "400       1\n",
       "Name: DicomName, dtype: int64"
      ]
     },
     "execution_count": 25,
     "metadata": {},
     "output_type": "execute_result"
    }
   ],
   "source": [
    "steps_df.groupby('Series')['DicomName'].nunique()"
   ]
  },
  {
   "cell_type": "code",
   "execution_count": 21,
   "metadata": {},
   "outputs": [],
   "source": [
    "steps_fn = 'corrupted_file.csv'\n",
    "steps_df.to_csv(os.path.join(steps_fn),index=False)"
   ]
  },
  {
   "cell_type": "code",
   "execution_count": null,
   "metadata": {},
   "outputs": [],
   "source": []
  }
 ],
 "metadata": {
  "kernelspec": {
   "display_name": "kong_py35",
   "language": "python",
   "name": "kong_py35"
  },
  "language_info": {
   "codemirror_mode": {
    "name": "ipython",
    "version": 3
   },
   "file_extension": ".py",
   "mimetype": "text/x-python",
   "name": "python",
   "nbconvert_exporter": "python",
   "pygments_lexer": "ipython3",
   "version": "3.5.6"
  }
 },
 "nbformat": 4,
 "nbformat_minor": 2
}
